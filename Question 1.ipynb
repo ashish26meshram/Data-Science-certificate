{
 "cells": [
  {
   "cell_type": "markdown",
   "id": "e9baa7b8",
   "metadata": {},
   "source": [
    "# Question 1"
   ]
  },
  {
   "cell_type": "markdown",
   "id": "adc36edf",
   "metadata": {},
   "source": [
    "Question 1\n",
    "You work in a news agency & are responsible for identifying the most\n",
    "important topic for writing articles by your content team. Develop a\n",
    "Jupyter Notebook which on executing every time shows top 10 Twitter\n",
    "trending topics in India in the last 24 hours. Hints: Connecting with Twitter\n",
    "API. Bringing Dashboard-like behaviour in Jupyter notebook. Please note:\n",
    "Visualisation is mandatory. You will receive 0 marks if you do not add\n",
    "visualisation."
   ]
  },
  {
   "cell_type": "code",
   "execution_count": null,
   "id": "60fc4346",
   "metadata": {},
   "outputs": [],
   "source": [
    "import tweepy\n",
    "import pandas as pd\n",
    "import matplotlib.pyplot as plt"
   ]
  },
  {
   "cell_type": "markdown",
   "id": "95c41ee7",
   "metadata": {},
   "source": [
    "# Connecting with Twitter API"
   ]
  },
  {
   "cell_type": "code",
   "execution_count": null,
   "id": "4e3f61be",
   "metadata": {},
   "outputs": [],
   "source": [
    "# Twitter API credentials\n",
    "API_KEY = 'dy9btQ8xTyReqgQQXhcZTvP6O'\n",
    "API_SECRET_KEY = 'ZREpZqLkbdMwRg3LhP5ulEkI2pfbNk5UrsEjwlAhMD77e8mHRb'\n",
    "ACCESS_TOKEN = '1690715752548970496-y43DruxxNDLBbsbO3LvZuWE6A4bWTK'\n",
    "ACCESS_TOKEN_SECRET = 'HlcUQFZ7id8UShBFWSiTtnUlFTqaDsikOWQKaSHbq4Q2j'"
   ]
  },
  {
   "cell_type": "code",
   "execution_count": null,
   "id": "3cd2c633",
   "metadata": {},
   "outputs": [],
   "source": [
    "auth = tweepy.OAuthHandler(API_KEY, API_SECRET_KEY)\n",
    "auth.set_access_token(ACCESS_TOKEN, ACCESS_TOKEN_SECRET)\n",
    "api = tweepy.API(auth, wait_on_rate_limit=True)"
   ]
  },
  {
   "cell_type": "markdown",
   "id": "c9825d93",
   "metadata": {},
   "source": [
    "# Fetch top 10 trending topics in India"
   ]
  },
  {
   "cell_type": "code",
   "execution_count": null,
   "id": "da389d02",
   "metadata": {},
   "outputs": [],
   "source": [
    "india_woeid = 23424848\n",
    "trends = api.get_place_trends(id=india_woeid)[0]['trends'][:10]\n",
    "trend_names = [trend['name'] for trend in trends]\n",
    "trend_volumes = [trend['tweet_volume'] for trend in trends]"
   ]
  },
  {
   "cell_type": "code",
   "execution_count": null,
   "id": "d369e2cf",
   "metadata": {},
   "outputs": [],
   "source": [
    "# Create a DataFrame"
   ]
  },
  {
   "cell_type": "code",
   "execution_count": null,
   "id": "537403cf",
   "metadata": {},
   "outputs": [],
   "source": [
    "data = {'Topic': trend_names, 'Volume': trend_volumes}\n",
    "df = pd.DataFrame(data)"
   ]
  },
  {
   "cell_type": "markdown",
   "id": "1b891643",
   "metadata": {},
   "source": [
    "# Create visualization"
   ]
  },
  {
   "cell_type": "code",
   "execution_count": null,
   "id": "1501b82c",
   "metadata": {},
   "outputs": [],
   "source": [
    "# Create visualization\n",
    "plt.figure(figsize=(10, 6))\n",
    "plt.barh(df['Topic'], df['Volume'])\n",
    "plt.xlabel('Tweet Volume')\n",
    "plt.ylabel('Trending Topics')\n",
    "plt.title('Top 10 Twitter Trending Topics in India')\n",
    "plt.gca().invert_yaxis() \n",
    "plt.show()"
   ]
  },
  {
   "cell_type": "code",
   "execution_count": null,
   "id": "654e7cd3",
   "metadata": {},
   "outputs": [],
   "source": [
    "# Create a pie chart\n",
    "plt.figure(figsize=(8, 8))\n",
    "plt.pie(df['Volume'], labels=df['Topic'], autopct='%1.1f%%', startangle=140)\n",
    "plt.axis('equal') \n",
    "plt.title('Top 10 Twitter Trending Topics in India (Pie Chart)')\n",
    "plt.show()"
   ]
  },
  {
   "cell_type": "markdown",
   "id": "11d2030a",
   "metadata": {},
   "source": [
    "# Conclusion:"
   ]
  },
  {
   "cell_type": "markdown",
   "id": "91db5960",
   "metadata": {},
   "source": [
    "In these our code effectively establishes a connection to the Twitter API using the provided credentials, ensuring access to real-time data.Then we generates two types of visualizations a horizontal bar chart and a pie chart. These visualizations present the top 10 trending topics in an intuitive manner, aiding in quick comprehension of the data. The horizontal bar chart vividly displays the tweet volumes associated with each trend, and its y-axis inversion enhances readability. The pie chart, on the other hand, provides a visual breakdown of the tweet volume distribution for each topic, giving a proportional representation."
   ]
  }
 ],
 "metadata": {
  "kernelspec": {
   "display_name": "Python 3 (ipykernel)",
   "language": "python",
   "name": "python3"
  },
  "language_info": {
   "codemirror_mode": {
    "name": "ipython",
    "version": 3
   },
   "file_extension": ".py",
   "mimetype": "text/x-python",
   "name": "python",
   "nbconvert_exporter": "python",
   "pygments_lexer": "ipython3",
   "version": "3.9.13"
  }
 },
 "nbformat": 4,
 "nbformat_minor": 5
}
